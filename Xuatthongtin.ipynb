{
 "cells": [
  {
   "cell_type": "code",
   "execution_count": 1,
   "id": "5253b874",
   "metadata": {},
   "outputs": [
    {
     "name": "stdout",
     "output_type": "stream",
     "text": [
      "Họ và tên: Nguyễn Huy Hoàng\n"
     ]
    }
   ],
   "source": [
    "print('Họ và tên: Nguyễn Huy Hoàng')"
   ]
  },
  {
   "cell_type": "code",
   "execution_count": 3,
   "id": "3cb9f322",
   "metadata": {},
   "outputs": [
    {
     "name": "stdout",
     "output_type": "stream",
     "text": [
      "Ngày sinh: 28/12/1994\n"
     ]
    }
   ],
   "source": [
    "print('Ngày sinh: 28/12/1994')"
   ]
  },
  {
   "cell_type": "code",
   "execution_count": null,
   "id": "bfd6c3dd",
   "metadata": {},
   "outputs": [],
   "source": []
  }
 ],
 "metadata": {
  "kernelspec": {
   "display_name": "Python 3 (ipykernel)",
   "language": "python",
   "name": "python3"
  },
  "language_info": {
   "codemirror_mode": {
    "name": "ipython",
    "version": 3
   },
   "file_extension": ".py",
   "mimetype": "text/x-python",
   "name": "python",
   "nbconvert_exporter": "python",
   "pygments_lexer": "ipython3",
   "version": "3.9.7"
  }
 },
 "nbformat": 4,
 "nbformat_minor": 5
}
