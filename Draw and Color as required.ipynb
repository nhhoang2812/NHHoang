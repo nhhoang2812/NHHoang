{
 "cells": [
  {
   "cell_type": "code",
   "execution_count": 1,
   "id": "e04b32a1",
   "metadata": {},
   "outputs": [
    {
     "name": "stdout",
     "output_type": "stream",
     "text": [
      "What shape would you like? Circle or Square: square\n",
      "What color will it be? Red, Yellow or Blue: blue\n"
     ]
    }
   ],
   "source": [
    "import turtle\n",
    "\n",
    "shape = input(\"What shape would you like? Circle or Square: \")\n",
    "s = shape.lower()\n",
    "\n",
    "if s == \"circle\" or s == \"square\":\n",
    "    color = input(\"What color will it be? Red, Yellow or Blue: \")\n",
    "    c = color.lower()\n",
    "    if c == \"red\" or c == \"yellow\" or c == \"blue\":\n",
    "        wn = turtle.Screen()\n",
    "        wn.bgcolor(\"white\")\n",
    "        wn.title(\"Your shape\")\n",
    "\n",
    "        displayShape = turtle.Turtle()\n",
    "        displayShape.shape(s)\n",
    "        displayShape.color(c)\n",
    "        \n",
    "        turtle.done()\n",
    "        \n",
    "    else:\n",
    "        print(\"Sorry, I don't have this color :(\")\n",
    "else:\n",
    "      print(\"Sorry, I don't have this shape :(\")"
   ]
  },
  {
   "cell_type": "code",
   "execution_count": null,
   "id": "6249ff3d",
   "metadata": {},
   "outputs": [],
   "source": []
  }
 ],
 "metadata": {
  "kernelspec": {
   "display_name": "Python 3 (ipykernel)",
   "language": "python",
   "name": "python3"
  },
  "language_info": {
   "codemirror_mode": {
    "name": "ipython",
    "version": 3
   },
   "file_extension": ".py",
   "mimetype": "text/x-python",
   "name": "python",
   "nbconvert_exporter": "python",
   "pygments_lexer": "ipython3",
   "version": "3.9.7"
  }
 },
 "nbformat": 4,
 "nbformat_minor": 5
}
