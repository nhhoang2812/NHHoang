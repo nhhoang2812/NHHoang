{
 "cells": [
  {
   "cell_type": "code",
   "execution_count": 1,
   "id": "92af4a63",
   "metadata": {},
   "outputs": [
    {
     "name": "stdout",
     "output_type": "stream",
     "text": [
      "Họ và tên: Nguyễn Huy Hoàng\n",
      "Ngày sinh: 28/12/1994\n"
     ]
    }
   ],
   "source": [
    "print('Họ và tên: Nguyễn Huy Hoàng')\n",
    "print('Ngày sinh: 28/12/1994')"
   ]
  },
  {
   "cell_type": "code",
   "execution_count": null,
   "id": "4057baed",
   "metadata": {},
   "outputs": [],
   "source": []
  }
 ],
 "metadata": {
  "kernelspec": {
   "display_name": "Python 3 (ipykernel)",
   "language": "python",
   "name": "python3"
  },
  "language_info": {
   "codemirror_mode": {
    "name": "ipython",
    "version": 3
   },
   "file_extension": ".py",
   "mimetype": "text/x-python",
   "name": "python",
   "nbconvert_exporter": "python",
   "pygments_lexer": "ipython3",
   "version": "3.9.7"
  }
 },
 "nbformat": 4,
 "nbformat_minor": 5
}
