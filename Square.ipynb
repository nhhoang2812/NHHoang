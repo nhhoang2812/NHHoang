{
 "cells": [
  {
   "cell_type": "code",
   "execution_count": 1,
   "id": "3f95ddfb",
   "metadata": {},
   "outputs": [
    {
     "name": "stdout",
     "output_type": "stream",
     "text": [
      "Nhập màu hoặc mã màu: red\n",
      "Nhập cạnh hình vuông 100\n",
      "Chu vi của hình vuông (cạnh = 100.0) là 400.0\n",
      "Diện tích của hình vuông (cạnh = 100.0) là 10000.0\n"
     ]
    }
   ],
   "source": [
    "import turtle\n",
    "color = input(\"Nhập màu hoặc mã màu: \")\n",
    "w = float(input(\"Nhập cạnh hình vuông \"))\n",
    "t = turtle.Turtle()\n",
    "t.hideturtle()\n",
    "t.color(color)\n",
    "t.begin_fill()\n",
    "for i in range(4):\n",
    "    t.forward(w)\n",
    "    t.right(90)\n",
    "t.end_fill()\n",
    "turtle.exitonclick()\n",
    "c = 4*w\n",
    "s = w**2\n",
    "print(\"Chu vi của hình vuông (cạnh = {w}) là {c}\".format(w=w, c=c))\n",
    "print(\"Diện tích của hình vuông (cạnh = {w}) là {s}\".format(w=w, s=s))"
   ]
  },
  {
   "cell_type": "code",
   "execution_count": null,
   "id": "177914ba",
   "metadata": {},
   "outputs": [],
   "source": []
  }
 ],
 "metadata": {
  "kernelspec": {
   "display_name": "Python 3 (ipykernel)",
   "language": "python",
   "name": "python3"
  },
  "language_info": {
   "codemirror_mode": {
    "name": "ipython",
    "version": 3
   },
   "file_extension": ".py",
   "mimetype": "text/x-python",
   "name": "python",
   "nbconvert_exporter": "python",
   "pygments_lexer": "ipython3",
   "version": "3.9.7"
  }
 },
 "nbformat": 4,
 "nbformat_minor": 5
}
