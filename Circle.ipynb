{
 "cells": [
  {
   "cell_type": "code",
   "execution_count": 1,
   "id": "438bdf2f",
   "metadata": {},
   "outputs": [
    {
     "name": "stdout",
     "output_type": "stream",
     "text": [
      "Nhập màu hoặc mã màu: blue\n",
      "Enter the radius: 50\n",
      "Chu vi của hình tròn có bán kính = 50 là 314.1592653589793\n",
      "Diện tích của hình tròn có bán kính = 50 là 7853.981633974483\n"
     ]
    }
   ],
   "source": [
    "import turtle\n",
    "import math\n",
    "color = input(\"Nhập màu hoặc mã màu: \")\n",
    "r = int(input(\"Enter the radius: \"))\n",
    "t = turtle.Turtle()\n",
    "t.hideturtle()\n",
    "t.pensize(1)\n",
    "t.color(color)\n",
    "t.begin_fill()\n",
    "t.circle(r)\n",
    "t.end_fill()\n",
    "turtle.exitonclick()\n",
    "c = 2 * math.pi * r\n",
    "s = math.pi * r * r\n",
    "print(\"Chu vi của hình tròn có bán kính = {r} là {c}\".format(r=r, c=c))\n",
    "print(\"Diện tích của hình tròn có bán kính = {r} là {s}\".format(r=r, s=s))"
   ]
  },
  {
   "cell_type": "code",
   "execution_count": null,
   "id": "4ccad732",
   "metadata": {},
   "outputs": [],
   "source": []
  }
 ],
 "metadata": {
  "kernelspec": {
   "display_name": "Python 3 (ipykernel)",
   "language": "python",
   "name": "python3"
  },
  "language_info": {
   "codemirror_mode": {
    "name": "ipython",
    "version": 3
   },
   "file_extension": ".py",
   "mimetype": "text/x-python",
   "name": "python",
   "nbconvert_exporter": "python",
   "pygments_lexer": "ipython3",
   "version": "3.9.7"
  }
 },
 "nbformat": 4,
 "nbformat_minor": 5
}
