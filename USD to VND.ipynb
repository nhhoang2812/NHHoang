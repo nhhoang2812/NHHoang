{
 "cells": [
  {
   "cell_type": "code",
   "execution_count": 5,
   "id": "cf983185",
   "metadata": {},
   "outputs": [
    {
     "name": "stdout",
     "output_type": "stream",
     "text": [
      "Nhập số lượng USD cần quy đổi: 12.5\n",
      "Nhập tỷ giá hiện tại: 22900\n",
      "Số tiền VND tương ứng: 286250.0\n"
     ]
    }
   ],
   "source": [
    "usd=input('Nhập số lượng USD cần quy đổi: ')\n",
    "tygia=input('Nhập tỷ giá hiện tại: ')\n",
    "print('Số tiền VND tương ứng: '+str(float(usd)*float(tygia)))"
   ]
  },
  {
   "cell_type": "code",
   "execution_count": null,
   "id": "a0d8c880",
   "metadata": {},
   "outputs": [],
   "source": []
  }
 ],
 "metadata": {
  "kernelspec": {
   "display_name": "Python 3 (ipykernel)",
   "language": "python",
   "name": "python3"
  },
  "language_info": {
   "codemirror_mode": {
    "name": "ipython",
    "version": 3
   },
   "file_extension": ".py",
   "mimetype": "text/x-python",
   "name": "python",
   "nbconvert_exporter": "python",
   "pygments_lexer": "ipython3",
   "version": "3.9.7"
  }
 },
 "nbformat": 4,
 "nbformat_minor": 5
}
