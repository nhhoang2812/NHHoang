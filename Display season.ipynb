{
 "cells": [
  {
   "cell_type": "code",
   "execution_count": 5,
   "id": "8b4f7644",
   "metadata": {},
   "outputs": [
    {
     "name": "stdout",
     "output_type": "stream",
     "text": [
      "Type from 1 to 4: 2\n",
      "Summer\n"
     ]
    }
   ],
   "source": [
    "i = int(input(\"Type from 1 to 4: \"))\n",
    "switcher={\n",
    "    1:'Spring',\n",
    "    2:'Summer',\n",
    "    3:'Autumn',\n",
    "    4:'Winter',\n",
    "             }\n",
    "print(switcher.get(i, \"Out of range!\"))"
   ]
  },
  {
   "cell_type": "code",
   "execution_count": null,
   "id": "7ca09ef8",
   "metadata": {},
   "outputs": [],
   "source": []
  }
 ],
 "metadata": {
  "kernelspec": {
   "display_name": "Python 3 (ipykernel)",
   "language": "python",
   "name": "python3"
  },
  "language_info": {
   "codemirror_mode": {
    "name": "ipython",
    "version": 3
   },
   "file_extension": ".py",
   "mimetype": "text/x-python",
   "name": "python",
   "nbconvert_exporter": "python",
   "pygments_lexer": "ipython3",
   "version": "3.9.7"
  }
 },
 "nbformat": 4,
 "nbformat_minor": 5
}
