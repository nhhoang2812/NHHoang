{
 "cells": [
  {
   "cell_type": "code",
   "execution_count": 1,
   "id": "3cc9d411",
   "metadata": {},
   "outputs": [
    {
     "name": "stdout",
     "output_type": "stream",
     "text": [
      "This sentence is an output to the screen\n"
     ]
    }
   ],
   "source": [
    "#Xuất thông tin ra màn hình\n",
    "print('This sentence is an output to the screen')"
   ]
  },
  {
   "cell_type": "code",
   "execution_count": 2,
   "id": "4822b93a",
   "metadata": {},
   "outputs": [
    {
     "name": "stdout",
     "output_type": "stream",
     "text": [
      "The value of a is 5\n"
     ]
    }
   ],
   "source": [
    "#Xuất thông tin của biến ra màn hình\n",
    "a = 5\n",
    "print('The value of a is ' + str(a))"
   ]
  },
  {
   "cell_type": "code",
   "execution_count": 26,
   "id": "cdb60716",
   "metadata": {},
   "outputs": [
    {
     "name": "stdout",
     "output_type": "stream",
     "text": [
      "Ký tự thứ 1 là G\n",
      "Ký tự thứ 2 là o\n",
      "Ký tự thứ 3 là o\n",
      "Ký tự thứ 4 là d\n",
      "Ký tự thứ 5 là  \n",
      "Ký tự thứ 6 là E\n",
      "Ký tự thứ 7 là v\n",
      "Ký tự thứ 8 là e\n",
      "Ký tự thứ 9 là n\n",
      "Ký tự thứ 10 là i\n",
      "Ký tự thứ 11 là n\n",
      "Ký tự thứ 12 là g\n"
     ]
    }
   ],
   "source": [
    "#Xuất từng ký tự của chuỗi ra màn hình\n",
    "my_string = 'Good Evening'\n",
    "i = 1\n",
    "for x in my_string:\n",
    "    print('Ký tự thứ '+str(i)+' là '+x)\n",
    "    i+=1\n",
    "    "
   ]
  },
  {
   "cell_type": "code",
   "execution_count": 7,
   "id": "aaabb058",
   "metadata": {},
   "outputs": [
    {
     "name": "stdout",
     "output_type": "stream",
     "text": [
      "Chiều dài của chuỗi là: 12\n"
     ]
    }
   ],
   "source": [
    "#Xuất chiều dài của chuỗi\n",
    "my_string = 'Good Evening'\n",
    "print('Chiều dài của chuỗi là: '+str(len(my_string)))"
   ]
  },
  {
   "cell_type": "code",
   "execution_count": 11,
   "id": "9adb84cd",
   "metadata": {},
   "outputs": [
    {
     "name": "stdout",
     "output_type": "stream",
     "text": [
      "Nhập vào chuỗi số 1: 568\n",
      "Nhập vào chuỗi số 2: 1345689\n",
      "Chuỗi 1 nằm trong chuỗi 2\n"
     ]
    }
   ],
   "source": [
    "#Xác định chuỗi trong chuỗi\n",
    "chuoi1 = input('Nhập vào chuỗi số 1: ')\n",
    "chuoi2 = input('Nhập vào chuỗi số 2: ')\n",
    "if chuoi1 in chuoi2:\n",
    "    print ('Chuỗi 1 nằm trong chuỗi 2')\n",
    "else:\n",
    "    print ('Chuỗi 1 không nằm trong chuỗi 2')"
   ]
  },
  {
   "cell_type": "code",
   "execution_count": 21,
   "id": "00a19d5d",
   "metadata": {},
   "outputs": [
    {
     "name": "stdout",
     "output_type": "stream",
     "text": [
      "Nhập vào chuỗi số 1: 12\n",
      "Nhập vào chuỗi số 2: 34\n",
      "Chuỗi 1 không nằm trong chuỗi 2\n"
     ]
    }
   ],
   "source": [
    "#Xác định chuỗi không trong chuỗi\n",
    "chuoi1 = input('Nhập vào chuỗi số 1: ')\n",
    "chuoi2 = input('Nhập vào chuỗi số 2: ')\n",
    "if chuoi1 not in chuoi2:\n",
    "    print ('Chuỗi 1 không nằm trong chuỗi 2')\n",
    "else:\n",
    "    print ('Chuỗi 1 nằm trong chuỗi 2')"
   ]
  },
  {
   "cell_type": "code",
   "execution_count": 13,
   "id": "ad2ae776",
   "metadata": {},
   "outputs": [
    {
     "name": "stdout",
     "output_type": "stream",
     "text": [
      "!\n"
     ]
    }
   ],
   "source": [
    "#Xuất một vài ký tự trong chuỗi\n",
    "chuoi1 = 'Xin chào các bạn!'\n",
    "print(chuoi1[-1])"
   ]
  },
  {
   "cell_type": "code",
   "execution_count": 27,
   "id": "290f6b4e",
   "metadata": {},
   "outputs": [
    {
     "name": "stdout",
     "output_type": "stream",
     "text": [
      "chào\n"
     ]
    }
   ],
   "source": [
    "#Xuất một vài ký tự trong chuỗi\n",
    "chuoi1 = 'Xin chào các bạn!'\n",
    "print(chuoi1[4:8])"
   ]
  },
  {
   "cell_type": "code",
   "execution_count": 17,
   "id": "c41e82fd",
   "metadata": {},
   "outputs": [
    {
     "name": "stdout",
     "output_type": "stream",
     "text": [
      "chào các bạn!\n"
     ]
    }
   ],
   "source": [
    "#Xuất một vài ký tự trong chuỗi\n",
    "chuoi1 = 'Xin chào các bạn!'\n",
    "print(chuoi1[4:])"
   ]
  },
  {
   "cell_type": "code",
   "execution_count": 18,
   "id": "145fbce8",
   "metadata": {},
   "outputs": [
    {
     "name": "stdout",
     "output_type": "stream",
     "text": [
      "XIN CHÀO CÁC BẠN!\n"
     ]
    }
   ],
   "source": [
    "#Xuất chuỗi viết in hoa\n",
    "chuoi1 = 'Xin chào các bạn!'\n",
    "print(chuoi1.upper())"
   ]
  },
  {
   "cell_type": "code",
   "execution_count": 19,
   "id": "db3bf16c",
   "metadata": {},
   "outputs": [
    {
     "name": "stdout",
     "output_type": "stream",
     "text": [
      "xin chào các bạn!\n"
     ]
    }
   ],
   "source": [
    "#Xuất chuỗi viết thường\n",
    "chuoi1 = 'Xin chào các bạn!'\n",
    "print(chuoi1.lower())"
   ]
  },
  {
   "cell_type": "code",
   "execution_count": 25,
   "id": "baa68e95",
   "metadata": {},
   "outputs": [
    {
     "name": "stdout",
     "output_type": "stream",
     "text": [
      "Nhập vào một chuỗixin chào các bạn\n",
      "Trước khi sắp xếp \n",
      "\n",
      "xin\n",
      "chào\n",
      "các\n",
      "bạn\n",
      "Sau khi sắp xếp \n",
      "\n",
      "bạn\n",
      "chào\n",
      "các\n",
      "xin\n",
      "bạn chào các xin\n"
     ]
    }
   ],
   "source": [
    "#Xuất, tách chuỗi, gộp chuỗi\n",
    "items = [x for x in input('Nhập vào một chuỗi').split(' ')]\n",
    "print('Trước khi sắp xếp \\r\\n')\n",
    "for a in items:\n",
    "    print(a)\n",
    "items.sort()\n",
    "print('Sau khi sắp xếp \\r\\n')\n",
    "for a in items:\n",
    "    print(a)\n",
    "print(' '.join(items))\n"
   ]
  },
  {
   "cell_type": "code",
   "execution_count": null,
   "id": "958da4bd",
   "metadata": {},
   "outputs": [],
   "source": []
  }
 ],
 "metadata": {
  "kernelspec": {
   "display_name": "Python 3 (ipykernel)",
   "language": "python",
   "name": "python3"
  },
  "language_info": {
   "codemirror_mode": {
    "name": "ipython",
    "version": 3
   },
   "file_extension": ".py",
   "mimetype": "text/x-python",
   "name": "python",
   "nbconvert_exporter": "python",
   "pygments_lexer": "ipython3",
   "version": "3.9.7"
  }
 },
 "nbformat": 4,
 "nbformat_minor": 5
}
